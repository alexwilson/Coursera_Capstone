{
    "cells": [
        {
            "cell_type": "markdown",
            "metadata": {
                "collapsed": true
            },
            "source": "# How big is Old Street, really, and where's the best place to rent?"
        },
        {
            "cell_type": "markdown",
            "metadata": {},
            "source": "Analysis By: Alex Wilson"
        },
        {
            "cell_type": "markdown",
            "metadata": {},
            "source": "## 1. Introduction"
        },
        {
            "cell_type": "markdown",
            "metadata": {},
            "source": "## 1.1 Background\n\nShoreditch has a rich and varied background, in the 1600s it was known for theatre & entertainment, in the 1700 & 1800s it was known for textile manufacturing, and throughout the 1900s depsite its proximity to the City of London it was left neglected and had a generally poor reputation. Around the 1990s after development in the area, however, it it started to become a much more popular area. \n\nToday it symbolises gentrification and much of East London, with plenty of venues and establishments popular with millennials \u2014 including the controversial Cereal Killer Cafe.  It's a melting pot of culture and the birthplace of many start-ups, however especially recently housing prices in Shoreditch have begun to climb as bankers in the city have begun to move in, and as ever-fancier property developments are built."
        },
        {
            "cell_type": "markdown",
            "metadata": {},
            "source": "## 1.2 Problem\n\nData surrounding the amenities in Shoreditch is freely available, and can be used to try and identify an \"optimal\" place to move.\n\nThe purpose of this project is to identify the best area in & surrounding Shoreditch to rent, balancing transport options & rental rates."
        },
        {
            "cell_type": "markdown",
            "metadata": {},
            "source": "## 1.3 Interest\n\nThis will be of interest to both people looking to move to a more trendy area of London ahead of the increasing rates of rent, and to aspiring property developers looking for a safer bet on a property development."
        },
        {
            "cell_type": "markdown",
            "metadata": {},
            "source": "# 2. Data"
        },
        {
            "cell_type": "markdown",
            "metadata": {},
            "source": "## 2.1\n\nData surrounding the features (including transport hubs) of each London borough are available via geo-data providers such as [Foursquare](https://www.foursquare.com/), and rental pricing is aggregated monthly per ward, and made available yearly via the [Office of National Statistics](https://www.ons.gov.uk/peoplepopulationandcommunity/housing/datasets/privaterentalmarketsummarystatisticsinengland)."
        },
        {
            "cell_type": "code",
            "execution_count": null,
            "metadata": {},
            "outputs": [],
            "source": ""
        }
    ],
    "metadata": {
        "kernelspec": {
            "display_name": "Python 3.6",
            "language": "python",
            "name": "python3"
        },
        "language_info": {
            "codemirror_mode": {
                "name": "ipython",
                "version": 3
            },
            "file_extension": ".py",
            "mimetype": "text/x-python",
            "name": "python",
            "nbconvert_exporter": "python",
            "pygments_lexer": "ipython3",
            "version": "3.6.9"
        }
    },
    "nbformat": 4,
    "nbformat_minor": 1
}